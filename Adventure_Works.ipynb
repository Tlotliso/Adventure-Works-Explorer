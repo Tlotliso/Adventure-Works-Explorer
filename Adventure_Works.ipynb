{
 "cells": [
  {
   "cell_type": "markdown",
   "id": "cd992fd1",
   "metadata": {},
   "source": [
    "# Data Exploration - Adventure Works 2019 Dataset \n",
    "\n",
    "## by Tlotliso Molapo"
   ]
  },
  {
   "cell_type": "markdown",
   "id": "6a8cfa0d",
   "metadata": {},
   "source": [
    "<ul>\n",
    "<li><a href=\"#intro\">Introduction</a></li>\n",
    "<li><a href=\"#gathering\">Gathering Data</a></li>   \n",
    "<li><a href=\"#wrangling\">Data Wrangling</a></li>\n",
    "<li><a href=\"#eda\">Exploratory Data Analysis</a></li>\n",
    "<li><a href=\"#conclusions\">Conclusions</a></li>\n",
    "</ul>"
   ]
  },
  {
   "cell_type": "markdown",
   "id": "e4b8dd2e",
   "metadata": {},
   "source": [
    "<a id='intro'></a>\n",
    "## Introduction\n"
   ]
  },
  {
   "cell_type": "markdown",
   "id": "34f48831",
   "metadata": {},
   "source": [
    "- The adventure works database is a database of a fictitious multinational company called Adventure Works Cycles. The database is made by Microsoft. I will be analyzing the HR data in this database to draw insights on the employees at Adventure Works.\n",
    "\n",
    "I will be using the following query to find my server name  in SQL\n",
    "\n",
    "```\n",
    "SELECT @@SERVERNAME\n",
    "```"
   ]
  },
  {
   "cell_type": "markdown",
   "id": "313a4c0a",
   "metadata": {},
   "source": [
    "<a id='gathering'></a>\n",
    "## Gathering data\n"
   ]
  },
  {
   "cell_type": "code",
   "execution_count": 2,
   "id": "f84a8901",
   "metadata": {},
   "outputs": [],
   "source": [
    "#Importing liabraries\n",
    "import pandas as pd\n",
    "import matplotlib.pyplot as plt\n",
    "import pyodbc\n",
    "import seaborn as sb\n",
    "\n",
    "\n",
    "%matplotlib inline"
   ]
  },
  {
   "cell_type": "code",
   "execution_count": 3,
   "id": "05322ad1",
   "metadata": {},
   "outputs": [
    {
     "name": "stdout",
     "output_type": "stream",
     "text": [
      "SQL Server\n",
      "SQL Server Native Client 11.0\n",
      "ODBC Driver 17 for SQL Server\n",
      "SQL Server Native Client RDA 11.0\n",
      "ODBC Driver 18 for SQL Server\n",
      "Microsoft Access Driver (*.mdb, *.accdb)\n",
      "Microsoft Excel Driver (*.xls, *.xlsx, *.xlsm, *.xlsb)\n",
      "Microsoft Access Text Driver (*.txt, *.csv)\n"
     ]
    }
   ],
   "source": [
    "#Printing installed drivers - pyodbc\n",
    "for driver in pyodbc.drivers():\n",
    "    print(driver)"
   ]
  },
  {
   "cell_type": "code",
   "execution_count": 4,
   "id": "0f2f70dd",
   "metadata": {},
   "outputs": [],
   "source": [
    "#Connecting to SQL Server: Server name was removed from notebook\n",
    "conn = pyodbc.connect('Driver={SQL Server};'\n",
    "                      'Server=_________;'\n",
    "                          'Database=AdventureWorks2019;'\n",
    "                      'Trusted_Connection=yes;',autocommit=True)\n",
    "cursor = conn.cursor()"
   ]
  },
  {
   "cell_type": "code",
   "execution_count": 5,
   "id": "e5dc5ed6",
   "metadata": {},
   "outputs": [],
   "source": [
    "#Query to select HR Employees lableL\n",
    "query = \"SELECT [BusinessEntityID],[JobTitle],[BirthDate],[MaritalStatus],[Gender],[HireDate],[VacationHours],[SickLeaveHours] FROM HumanResources.Employee;\"\n",
    "df_employees = pd.read_sql(query, conn)"
   ]
  },
  {
   "cell_type": "code",
   "execution_count": 6,
   "id": "2af183f4",
   "metadata": {},
   "outputs": [
    {
     "data": {
      "text/html": [
       "<div>\n",
       "<style scoped>\n",
       "    .dataframe tbody tr th:only-of-type {\n",
       "        vertical-align: middle;\n",
       "    }\n",
       "\n",
       "    .dataframe tbody tr th {\n",
       "        vertical-align: top;\n",
       "    }\n",
       "\n",
       "    .dataframe thead th {\n",
       "        text-align: right;\n",
       "    }\n",
       "</style>\n",
       "<table border=\"1\" class=\"dataframe\">\n",
       "  <thead>\n",
       "    <tr style=\"text-align: right;\">\n",
       "      <th></th>\n",
       "      <th>BusinessEntityID</th>\n",
       "      <th>JobTitle</th>\n",
       "      <th>BirthDate</th>\n",
       "      <th>MaritalStatus</th>\n",
       "      <th>Gender</th>\n",
       "      <th>HireDate</th>\n",
       "      <th>VacationHours</th>\n",
       "      <th>SickLeaveHours</th>\n",
       "    </tr>\n",
       "  </thead>\n",
       "  <tbody>\n",
       "    <tr>\n",
       "      <th>0</th>\n",
       "      <td>1</td>\n",
       "      <td>Chief Executive Officer</td>\n",
       "      <td>1969-01-29</td>\n",
       "      <td>S</td>\n",
       "      <td>M</td>\n",
       "      <td>2009-01-14</td>\n",
       "      <td>99</td>\n",
       "      <td>69</td>\n",
       "    </tr>\n",
       "    <tr>\n",
       "      <th>1</th>\n",
       "      <td>2</td>\n",
       "      <td>Vice President of Engineering</td>\n",
       "      <td>1971-08-01</td>\n",
       "      <td>S</td>\n",
       "      <td>F</td>\n",
       "      <td>2008-01-31</td>\n",
       "      <td>1</td>\n",
       "      <td>20</td>\n",
       "    </tr>\n",
       "    <tr>\n",
       "      <th>2</th>\n",
       "      <td>3</td>\n",
       "      <td>Engineering Manager</td>\n",
       "      <td>1974-11-12</td>\n",
       "      <td>M</td>\n",
       "      <td>M</td>\n",
       "      <td>2007-11-11</td>\n",
       "      <td>2</td>\n",
       "      <td>21</td>\n",
       "    </tr>\n",
       "    <tr>\n",
       "      <th>3</th>\n",
       "      <td>4</td>\n",
       "      <td>Senior Tool Designer</td>\n",
       "      <td>1974-12-23</td>\n",
       "      <td>S</td>\n",
       "      <td>M</td>\n",
       "      <td>2007-12-05</td>\n",
       "      <td>48</td>\n",
       "      <td>80</td>\n",
       "    </tr>\n",
       "    <tr>\n",
       "      <th>4</th>\n",
       "      <td>5</td>\n",
       "      <td>Design Engineer</td>\n",
       "      <td>1952-09-27</td>\n",
       "      <td>M</td>\n",
       "      <td>F</td>\n",
       "      <td>2008-01-06</td>\n",
       "      <td>5</td>\n",
       "      <td>22</td>\n",
       "    </tr>\n",
       "    <tr>\n",
       "      <th>5</th>\n",
       "      <td>6</td>\n",
       "      <td>Design Engineer</td>\n",
       "      <td>1959-03-11</td>\n",
       "      <td>M</td>\n",
       "      <td>M</td>\n",
       "      <td>2008-01-24</td>\n",
       "      <td>6</td>\n",
       "      <td>23</td>\n",
       "    </tr>\n",
       "    <tr>\n",
       "      <th>6</th>\n",
       "      <td>7</td>\n",
       "      <td>Research and Development Manager</td>\n",
       "      <td>1987-02-24</td>\n",
       "      <td>M</td>\n",
       "      <td>M</td>\n",
       "      <td>2009-02-08</td>\n",
       "      <td>61</td>\n",
       "      <td>50</td>\n",
       "    </tr>\n",
       "    <tr>\n",
       "      <th>7</th>\n",
       "      <td>8</td>\n",
       "      <td>Research and Development Engineer</td>\n",
       "      <td>1986-06-05</td>\n",
       "      <td>S</td>\n",
       "      <td>F</td>\n",
       "      <td>2008-12-29</td>\n",
       "      <td>62</td>\n",
       "      <td>51</td>\n",
       "    </tr>\n",
       "    <tr>\n",
       "      <th>8</th>\n",
       "      <td>9</td>\n",
       "      <td>Research and Development Engineer</td>\n",
       "      <td>1979-01-21</td>\n",
       "      <td>M</td>\n",
       "      <td>F</td>\n",
       "      <td>2009-01-16</td>\n",
       "      <td>63</td>\n",
       "      <td>51</td>\n",
       "    </tr>\n",
       "    <tr>\n",
       "      <th>9</th>\n",
       "      <td>10</td>\n",
       "      <td>Research and Development Manager</td>\n",
       "      <td>1984-11-30</td>\n",
       "      <td>M</td>\n",
       "      <td>M</td>\n",
       "      <td>2009-05-03</td>\n",
       "      <td>16</td>\n",
       "      <td>64</td>\n",
       "    </tr>\n",
       "    <tr>\n",
       "      <th>10</th>\n",
       "      <td>11</td>\n",
       "      <td>Senior Tool Designer</td>\n",
       "      <td>1978-01-17</td>\n",
       "      <td>S</td>\n",
       "      <td>M</td>\n",
       "      <td>2010-12-05</td>\n",
       "      <td>7</td>\n",
       "      <td>23</td>\n",
       "    </tr>\n",
       "    <tr>\n",
       "      <th>11</th>\n",
       "      <td>12</td>\n",
       "      <td>Tool Designer</td>\n",
       "      <td>1959-07-29</td>\n",
       "      <td>M</td>\n",
       "      <td>M</td>\n",
       "      <td>2007-12-11</td>\n",
       "      <td>9</td>\n",
       "      <td>24</td>\n",
       "    </tr>\n",
       "    <tr>\n",
       "      <th>12</th>\n",
       "      <td>13</td>\n",
       "      <td>Tool Designer</td>\n",
       "      <td>1989-05-28</td>\n",
       "      <td>M</td>\n",
       "      <td>F</td>\n",
       "      <td>2010-12-23</td>\n",
       "      <td>8</td>\n",
       "      <td>24</td>\n",
       "    </tr>\n",
       "    <tr>\n",
       "      <th>13</th>\n",
       "      <td>14</td>\n",
       "      <td>Senior Design Engineer</td>\n",
       "      <td>1979-06-16</td>\n",
       "      <td>S</td>\n",
       "      <td>M</td>\n",
       "      <td>2010-12-30</td>\n",
       "      <td>3</td>\n",
       "      <td>21</td>\n",
       "    </tr>\n",
       "    <tr>\n",
       "      <th>14</th>\n",
       "      <td>15</td>\n",
       "      <td>Design Engineer</td>\n",
       "      <td>1961-05-02</td>\n",
       "      <td>M</td>\n",
       "      <td>F</td>\n",
       "      <td>2011-01-18</td>\n",
       "      <td>4</td>\n",
       "      <td>22</td>\n",
       "    </tr>\n",
       "    <tr>\n",
       "      <th>15</th>\n",
       "      <td>16</td>\n",
       "      <td>Marketing Manager</td>\n",
       "      <td>1975-03-19</td>\n",
       "      <td>S</td>\n",
       "      <td>M</td>\n",
       "      <td>2007-12-20</td>\n",
       "      <td>40</td>\n",
       "      <td>40</td>\n",
       "    </tr>\n",
       "    <tr>\n",
       "      <th>16</th>\n",
       "      <td>17</td>\n",
       "      <td>Marketing Assistant</td>\n",
       "      <td>1987-05-03</td>\n",
       "      <td>S</td>\n",
       "      <td>M</td>\n",
       "      <td>2007-01-26</td>\n",
       "      <td>42</td>\n",
       "      <td>41</td>\n",
       "    </tr>\n",
       "    <tr>\n",
       "      <th>17</th>\n",
       "      <td>18</td>\n",
       "      <td>Marketing Specialist</td>\n",
       "      <td>1978-03-06</td>\n",
       "      <td>S</td>\n",
       "      <td>M</td>\n",
       "      <td>2011-02-07</td>\n",
       "      <td>48</td>\n",
       "      <td>44</td>\n",
       "    </tr>\n",
       "    <tr>\n",
       "      <th>18</th>\n",
       "      <td>19</td>\n",
       "      <td>Marketing Assistant</td>\n",
       "      <td>1978-01-29</td>\n",
       "      <td>S</td>\n",
       "      <td>F</td>\n",
       "      <td>2011-02-14</td>\n",
       "      <td>43</td>\n",
       "      <td>41</td>\n",
       "    </tr>\n",
       "    <tr>\n",
       "      <th>19</th>\n",
       "      <td>20</td>\n",
       "      <td>Marketing Assistant</td>\n",
       "      <td>1975-03-17</td>\n",
       "      <td>M</td>\n",
       "      <td>F</td>\n",
       "      <td>2011-01-07</td>\n",
       "      <td>41</td>\n",
       "      <td>40</td>\n",
       "    </tr>\n",
       "  </tbody>\n",
       "</table>\n",
       "</div>"
      ],
      "text/plain": [
       "    BusinessEntityID                           JobTitle   BirthDate  \\\n",
       "0                  1            Chief Executive Officer  1969-01-29   \n",
       "1                  2      Vice President of Engineering  1971-08-01   \n",
       "2                  3                Engineering Manager  1974-11-12   \n",
       "3                  4               Senior Tool Designer  1974-12-23   \n",
       "4                  5                    Design Engineer  1952-09-27   \n",
       "5                  6                    Design Engineer  1959-03-11   \n",
       "6                  7   Research and Development Manager  1987-02-24   \n",
       "7                  8  Research and Development Engineer  1986-06-05   \n",
       "8                  9  Research and Development Engineer  1979-01-21   \n",
       "9                 10   Research and Development Manager  1984-11-30   \n",
       "10                11               Senior Tool Designer  1978-01-17   \n",
       "11                12                      Tool Designer  1959-07-29   \n",
       "12                13                      Tool Designer  1989-05-28   \n",
       "13                14             Senior Design Engineer  1979-06-16   \n",
       "14                15                    Design Engineer  1961-05-02   \n",
       "15                16                  Marketing Manager  1975-03-19   \n",
       "16                17                Marketing Assistant  1987-05-03   \n",
       "17                18               Marketing Specialist  1978-03-06   \n",
       "18                19                Marketing Assistant  1978-01-29   \n",
       "19                20                Marketing Assistant  1975-03-17   \n",
       "\n",
       "   MaritalStatus Gender    HireDate  VacationHours  SickLeaveHours  \n",
       "0              S      M  2009-01-14             99              69  \n",
       "1              S      F  2008-01-31              1              20  \n",
       "2              M      M  2007-11-11              2              21  \n",
       "3              S      M  2007-12-05             48              80  \n",
       "4              M      F  2008-01-06              5              22  \n",
       "5              M      M  2008-01-24              6              23  \n",
       "6              M      M  2009-02-08             61              50  \n",
       "7              S      F  2008-12-29             62              51  \n",
       "8              M      F  2009-01-16             63              51  \n",
       "9              M      M  2009-05-03             16              64  \n",
       "10             S      M  2010-12-05              7              23  \n",
       "11             M      M  2007-12-11              9              24  \n",
       "12             M      F  2010-12-23              8              24  \n",
       "13             S      M  2010-12-30              3              21  \n",
       "14             M      F  2011-01-18              4              22  \n",
       "15             S      M  2007-12-20             40              40  \n",
       "16             S      M  2007-01-26             42              41  \n",
       "17             S      M  2011-02-07             48              44  \n",
       "18             S      F  2011-02-14             43              41  \n",
       "19             M      F  2011-01-07             41              40  "
      ]
     },
     "execution_count": 6,
     "metadata": {},
     "output_type": "execute_result"
    }
   ],
   "source": [
    "#inspecting employees dataframe:\n",
    "df_employees.head(20)"
   ]
  },
  {
   "cell_type": "code",
   "execution_count": 7,
   "id": "3e63a1e4",
   "metadata": {},
   "outputs": [],
   "source": [
    "#Query to select HR Employee Pay\n",
    "query = \"SELECT [BusinessEntityID], [Rate] FROM HumanResources.EmployeePayHistory;\"\n",
    "df_employee_pay = pd.read_sql(query, conn)"
   ]
  },
  {
   "cell_type": "code",
   "execution_count": 8,
   "id": "e164ff91",
   "metadata": {},
   "outputs": [
    {
     "data": {
      "text/html": [
       "<div>\n",
       "<style scoped>\n",
       "    .dataframe tbody tr th:only-of-type {\n",
       "        vertical-align: middle;\n",
       "    }\n",
       "\n",
       "    .dataframe tbody tr th {\n",
       "        vertical-align: top;\n",
       "    }\n",
       "\n",
       "    .dataframe thead th {\n",
       "        text-align: right;\n",
       "    }\n",
       "</style>\n",
       "<table border=\"1\" class=\"dataframe\">\n",
       "  <thead>\n",
       "    <tr style=\"text-align: right;\">\n",
       "      <th></th>\n",
       "      <th>BusinessEntityID</th>\n",
       "      <th>Rate</th>\n",
       "    </tr>\n",
       "  </thead>\n",
       "  <tbody>\n",
       "    <tr>\n",
       "      <th>0</th>\n",
       "      <td>1</td>\n",
       "      <td>125.5000</td>\n",
       "    </tr>\n",
       "    <tr>\n",
       "      <th>1</th>\n",
       "      <td>2</td>\n",
       "      <td>63.4615</td>\n",
       "    </tr>\n",
       "    <tr>\n",
       "      <th>2</th>\n",
       "      <td>3</td>\n",
       "      <td>43.2692</td>\n",
       "    </tr>\n",
       "    <tr>\n",
       "      <th>3</th>\n",
       "      <td>4</td>\n",
       "      <td>8.6200</td>\n",
       "    </tr>\n",
       "    <tr>\n",
       "      <th>4</th>\n",
       "      <td>4</td>\n",
       "      <td>23.7200</td>\n",
       "    </tr>\n",
       "  </tbody>\n",
       "</table>\n",
       "</div>"
      ],
      "text/plain": [
       "   BusinessEntityID      Rate\n",
       "0                 1  125.5000\n",
       "1                 2   63.4615\n",
       "2                 3   43.2692\n",
       "3                 4    8.6200\n",
       "4                 4   23.7200"
      ]
     },
     "execution_count": 8,
     "metadata": {},
     "output_type": "execute_result"
    }
   ],
   "source": [
    "#Inspecting employee pay dataframe\n",
    "df_employee_pay.head()"
   ]
  },
  {
   "cell_type": "code",
   "execution_count": 9,
   "id": "16985f7b",
   "metadata": {},
   "outputs": [],
   "source": [
    "#Query to select HR Employee Department\n",
    "query = \"SELECT [BusinessEntityID], [DepartmentID] FROM HumanResources.EmployeeDepartmentHistory;\"\n",
    "df_employee_department = pd.read_sql(query, conn)"
   ]
  },
  {
   "cell_type": "code",
   "execution_count": 10,
   "id": "a5d49d25",
   "metadata": {},
   "outputs": [
    {
     "data": {
      "text/html": [
       "<div>\n",
       "<style scoped>\n",
       "    .dataframe tbody tr th:only-of-type {\n",
       "        vertical-align: middle;\n",
       "    }\n",
       "\n",
       "    .dataframe tbody tr th {\n",
       "        vertical-align: top;\n",
       "    }\n",
       "\n",
       "    .dataframe thead th {\n",
       "        text-align: right;\n",
       "    }\n",
       "</style>\n",
       "<table border=\"1\" class=\"dataframe\">\n",
       "  <thead>\n",
       "    <tr style=\"text-align: right;\">\n",
       "      <th></th>\n",
       "      <th>BusinessEntityID</th>\n",
       "      <th>DepartmentID</th>\n",
       "    </tr>\n",
       "  </thead>\n",
       "  <tbody>\n",
       "    <tr>\n",
       "      <th>0</th>\n",
       "      <td>1</td>\n",
       "      <td>16</td>\n",
       "    </tr>\n",
       "    <tr>\n",
       "      <th>1</th>\n",
       "      <td>2</td>\n",
       "      <td>1</td>\n",
       "    </tr>\n",
       "    <tr>\n",
       "      <th>2</th>\n",
       "      <td>3</td>\n",
       "      <td>1</td>\n",
       "    </tr>\n",
       "    <tr>\n",
       "      <th>3</th>\n",
       "      <td>4</td>\n",
       "      <td>1</td>\n",
       "    </tr>\n",
       "    <tr>\n",
       "      <th>4</th>\n",
       "      <td>4</td>\n",
       "      <td>2</td>\n",
       "    </tr>\n",
       "  </tbody>\n",
       "</table>\n",
       "</div>"
      ],
      "text/plain": [
       "   BusinessEntityID  DepartmentID\n",
       "0                 1            16\n",
       "1                 2             1\n",
       "2                 3             1\n",
       "3                 4             1\n",
       "4                 4             2"
      ]
     },
     "execution_count": 10,
     "metadata": {},
     "output_type": "execute_result"
    }
   ],
   "source": [
    "#inspecting employee departments\n",
    "df_employee_department.head()"
   ]
  },
  {
   "cell_type": "markdown",
   "id": "9725d323",
   "metadata": {},
   "source": [
    "<a id='wrangling'></a>\n",
    "## Data Wrangling"
   ]
  },
  {
   "cell_type": "code",
   "execution_count": 11,
   "id": "24f3f09c",
   "metadata": {},
   "outputs": [],
   "source": [
    "#### renaming departmentID to actual name and not IDS\n",
    "ids = [1, 2, 3,4,5,6,7,8,9,10,11,12,13,14,15,16]\n",
    "deps = ['Engineering', 'ToolDesign', 'Sales','Marketing','Purchasing',\n",
    "        'ResearchandDevelopment','Production','ProductionControl','HumanResources',\n",
    "        'Finance','InformationSystems','DocumentControl',\n",
    "        'QualityAssurance','FacilitiesAndAMaintenance',\n",
    "        'ShippingAndRecieving','Executive']\n",
    "\n",
    "df_employee_department['DepartmentID'].replace( ids, deps ,inplace=True)"
   ]
  },
  {
   "cell_type": "markdown",
   "id": "036260d9",
   "metadata": {},
   "source": [
    "**In order to analyze the HR dataframes the Employee, Employee Pay and Department dataframes will be merged**"
   ]
  },
  {
   "cell_type": "code",
   "execution_count": 12,
   "id": "68571ef3",
   "metadata": {},
   "outputs": [],
   "source": [
    "#merging the employees and employee pay dataframe\n",
    "df_HR = pd.merge(df_employees, df_employee_pay, on = 'BusinessEntityID' )"
   ]
  },
  {
   "cell_type": "code",
   "execution_count": 13,
   "id": "3a8ab4eb",
   "metadata": {},
   "outputs": [],
   "source": [
    "#merging the department dataframe to the merged dataframe\n",
    "df_HR = pd.merge(df_HR, df_employee_department, on = 'BusinessEntityID' )"
   ]
  },
  {
   "cell_type": "code",
   "execution_count": 14,
   "id": "e43fffb5",
   "metadata": {},
   "outputs": [
    {
     "data": {
      "text/plain": [
       "BusinessEntityID      int64\n",
       "JobTitle             object\n",
       "BirthDate            object\n",
       "MaritalStatus        object\n",
       "Gender               object\n",
       "HireDate             object\n",
       "VacationHours         int64\n",
       "SickLeaveHours        int64\n",
       "Rate                float64\n",
       "DepartmentID         object\n",
       "dtype: object"
      ]
     },
     "execution_count": 14,
     "metadata": {},
     "output_type": "execute_result"
    }
   ],
   "source": [
    "#inspecting data types\n",
    "df_HR.dtypes"
   ]
  },
  {
   "cell_type": "markdown",
   "id": "4ce465be",
   "metadata": {},
   "source": [
    "* From the datatypes above we can see that Business entity ID which is ordinal data shows as an integer. I will convert this to a string."
   ]
  },
  {
   "cell_type": "code",
   "execution_count": 15,
   "id": "6eacec05",
   "metadata": {},
   "outputs": [],
   "source": [
    "#Changing Business Entity ID to string as ordinal data\n",
    "df_HR['BusinessEntityID'] = df_HR['BusinessEntityID'].astype('str');"
   ]
  },
  {
   "cell_type": "code",
   "execution_count": 16,
   "id": "74cf8464",
   "metadata": {},
   "outputs": [
    {
     "data": {
      "text/plain": [
       "BusinessEntityID    0\n",
       "JobTitle            0\n",
       "BirthDate           0\n",
       "MaritalStatus       0\n",
       "Gender              0\n",
       "HireDate            0\n",
       "VacationHours       0\n",
       "SickLeaveHours      0\n",
       "Rate                0\n",
       "DepartmentID        0\n",
       "dtype: int64"
      ]
     },
     "execution_count": 16,
     "metadata": {},
     "output_type": "execute_result"
    }
   ],
   "source": [
    "#inspecting null values\n",
    "df_HR.isnull().sum()"
   ]
  },
  {
   "cell_type": "markdown",
   "id": "9ba4512a",
   "metadata": {},
   "source": [
    "* From the data above we can see that there are no null values in the database."
   ]
  },
  {
   "cell_type": "code",
   "execution_count": 17,
   "id": "10bb65d0",
   "metadata": {},
   "outputs": [
    {
     "data": {
      "text/html": [
       "<div>\n",
       "<style scoped>\n",
       "    .dataframe tbody tr th:only-of-type {\n",
       "        vertical-align: middle;\n",
       "    }\n",
       "\n",
       "    .dataframe tbody tr th {\n",
       "        vertical-align: top;\n",
       "    }\n",
       "\n",
       "    .dataframe thead th {\n",
       "        text-align: right;\n",
       "    }\n",
       "</style>\n",
       "<table border=\"1\" class=\"dataframe\">\n",
       "  <thead>\n",
       "    <tr style=\"text-align: right;\">\n",
       "      <th></th>\n",
       "      <th>BusinessEntityID</th>\n",
       "      <th>JobTitle</th>\n",
       "      <th>BirthDate</th>\n",
       "      <th>MaritalStatus</th>\n",
       "      <th>Gender</th>\n",
       "      <th>HireDate</th>\n",
       "      <th>VacationHours</th>\n",
       "      <th>SickLeaveHours</th>\n",
       "      <th>Rate</th>\n",
       "      <th>DepartmentID</th>\n",
       "    </tr>\n",
       "  </thead>\n",
       "  <tbody>\n",
       "  </tbody>\n",
       "</table>\n",
       "</div>"
      ],
      "text/plain": [
       "Empty DataFrame\n",
       "Columns: [BusinessEntityID, JobTitle, BirthDate, MaritalStatus, Gender, HireDate, VacationHours, SickLeaveHours, Rate, DepartmentID]\n",
       "Index: []"
      ]
     },
     "execution_count": 17,
     "metadata": {},
     "output_type": "execute_result"
    }
   ],
   "source": [
    "#Showing all duplicated rows in the dataframe.\n",
    "df_HR.loc[df_HR.duplicated(), :] "
   ]
  },
  {
   "cell_type": "markdown",
   "id": "ef8f95d5",
   "metadata": {},
   "source": [
    "* From the analysis above there are no duplicated rows in the dataframe."
   ]
  },
  {
   "cell_type": "markdown",
   "id": "fb180e39",
   "metadata": {},
   "source": [
    "<a id='eda'></a>\n",
    "## Exploratory Data Analysis"
   ]
  },
  {
   "cell_type": "code",
   "execution_count": 18,
   "id": "bebe06a5",
   "metadata": {},
   "outputs": [
    {
     "data": {
      "text/plain": [
       "Production                   180\n",
       "Sales                         18\n",
       "Purchasing                    13\n",
       "Finance                       11\n",
       "Marketing                     10\n",
       "InformationSystems            10\n",
       "Engineering                    7\n",
       "QualityAssurance               7\n",
       "FacilitiesAndAMaintenance      7\n",
       "ProductionControl              6\n",
       "ShippingAndRecieving           6\n",
       "HumanResources                 6\n",
       "DocumentControl                5\n",
       "ToolDesign                     4\n",
       "ResearchandDevelopment         4\n",
       "Executive                      2\n",
       "Name: DepartmentID, dtype: int64"
      ]
     },
     "execution_count": 18,
     "metadata": {},
     "output_type": "execute_result"
    }
   ],
   "source": [
    "#Inspecting changes and inspecting number of employees in each category\n",
    "df_employee_department.DepartmentID.value_counts()"
   ]
  },
  {
   "cell_type": "markdown",
   "id": "361c2dc3",
   "metadata": {},
   "source": [
    "* From the data above I can see that the Production department has the most employees, with the Executive department having the least"
   ]
  },
  {
   "cell_type": "code",
   "execution_count": 19,
   "id": "b9a67f58",
   "metadata": {},
   "outputs": [
    {
     "data": {
      "text/html": [
       "<div>\n",
       "<style scoped>\n",
       "    .dataframe tbody tr th:only-of-type {\n",
       "        vertical-align: middle;\n",
       "    }\n",
       "\n",
       "    .dataframe tbody tr th {\n",
       "        vertical-align: top;\n",
       "    }\n",
       "\n",
       "    .dataframe thead th {\n",
       "        text-align: right;\n",
       "    }\n",
       "</style>\n",
       "<table border=\"1\" class=\"dataframe\">\n",
       "  <thead>\n",
       "    <tr style=\"text-align: right;\">\n",
       "      <th></th>\n",
       "      <th>VacationHours</th>\n",
       "      <th>SickLeaveHours</th>\n",
       "      <th>Rate</th>\n",
       "    </tr>\n",
       "  </thead>\n",
       "  <tbody>\n",
       "    <tr>\n",
       "      <th>count</th>\n",
       "      <td>334.000000</td>\n",
       "      <td>334.000000</td>\n",
       "      <td>334.000000</td>\n",
       "    </tr>\n",
       "    <tr>\n",
       "      <th>mean</th>\n",
       "      <td>48.332335</td>\n",
       "      <td>44.673653</td>\n",
       "      <td>18.187941</td>\n",
       "    </tr>\n",
       "    <tr>\n",
       "      <th>std</th>\n",
       "      <td>28.022948</td>\n",
       "      <td>14.810254</td>\n",
       "      <td>12.495811</td>\n",
       "    </tr>\n",
       "    <tr>\n",
       "      <th>min</th>\n",
       "      <td>0.000000</td>\n",
       "      <td>20.000000</td>\n",
       "      <td>6.500000</td>\n",
       "    </tr>\n",
       "    <tr>\n",
       "      <th>25%</th>\n",
       "      <td>26.000000</td>\n",
       "      <td>33.000000</td>\n",
       "      <td>11.000000</td>\n",
       "    </tr>\n",
       "    <tr>\n",
       "      <th>50%</th>\n",
       "      <td>48.000000</td>\n",
       "      <td>44.000000</td>\n",
       "      <td>14.000000</td>\n",
       "    </tr>\n",
       "    <tr>\n",
       "      <th>75%</th>\n",
       "      <td>71.750000</td>\n",
       "      <td>57.000000</td>\n",
       "      <td>23.076900</td>\n",
       "    </tr>\n",
       "    <tr>\n",
       "      <th>max</th>\n",
       "      <td>99.000000</td>\n",
       "      <td>80.000000</td>\n",
       "      <td>125.500000</td>\n",
       "    </tr>\n",
       "  </tbody>\n",
       "</table>\n",
       "</div>"
      ],
      "text/plain": [
       "       VacationHours  SickLeaveHours        Rate\n",
       "count     334.000000      334.000000  334.000000\n",
       "mean       48.332335       44.673653   18.187941\n",
       "std        28.022948       14.810254   12.495811\n",
       "min         0.000000       20.000000    6.500000\n",
       "25%        26.000000       33.000000   11.000000\n",
       "50%        48.000000       44.000000   14.000000\n",
       "75%        71.750000       57.000000   23.076900\n",
       "max        99.000000       80.000000  125.500000"
      ]
     },
     "execution_count": 19,
     "metadata": {},
     "output_type": "execute_result"
    }
   ],
   "source": [
    "#Exploring summary statistics\n",
    "df_HR.describe()"
   ]
  },
  {
   "cell_type": "markdown",
   "id": "3ba80839",
   "metadata": {},
   "source": [
    "**From the summary statistics above we can see that:**\n",
    "\n",
    "* The lowest rate per hour is \\$5\n",
    "* The highest rate per hour is \\$125.50\n",
    "\n",
    "* The lowest available Vacation hours is 0\n",
    "* The highest available Vacation hours is 71.75 hours\n",
    "\n",
    "* The highest available Sick Leave Hours is 80 hours\n",
    "* The lowest avaialble Sick leave hours is 20 hours\n",
    "\n"
   ]
  },
  {
   "cell_type": "code",
   "execution_count": 20,
   "id": "30668f6f",
   "metadata": {},
   "outputs": [
    {
     "data": {
      "text/html": [
       "<div>\n",
       "<style scoped>\n",
       "    .dataframe tbody tr th:only-of-type {\n",
       "        vertical-align: middle;\n",
       "    }\n",
       "\n",
       "    .dataframe tbody tr th {\n",
       "        vertical-align: top;\n",
       "    }\n",
       "\n",
       "    .dataframe thead th {\n",
       "        text-align: right;\n",
       "    }\n",
       "</style>\n",
       "<table border=\"1\" class=\"dataframe\">\n",
       "  <thead>\n",
       "    <tr style=\"text-align: right;\">\n",
       "      <th></th>\n",
       "      <th>BusinessEntityID</th>\n",
       "      <th>JobTitle</th>\n",
       "      <th>BirthDate</th>\n",
       "      <th>MaritalStatus</th>\n",
       "      <th>Gender</th>\n",
       "      <th>HireDate</th>\n",
       "      <th>VacationHours</th>\n",
       "      <th>SickLeaveHours</th>\n",
       "      <th>Rate</th>\n",
       "      <th>DepartmentID</th>\n",
       "    </tr>\n",
       "  </thead>\n",
       "  <tbody>\n",
       "    <tr>\n",
       "      <th>0</th>\n",
       "      <td>1</td>\n",
       "      <td>Chief Executive Officer</td>\n",
       "      <td>1969-01-29</td>\n",
       "      <td>S</td>\n",
       "      <td>M</td>\n",
       "      <td>2009-01-14</td>\n",
       "      <td>99</td>\n",
       "      <td>69</td>\n",
       "      <td>125.5000</td>\n",
       "      <td>Executive</td>\n",
       "    </tr>\n",
       "    <tr>\n",
       "      <th>1</th>\n",
       "      <td>2</td>\n",
       "      <td>Vice President of Engineering</td>\n",
       "      <td>1971-08-01</td>\n",
       "      <td>S</td>\n",
       "      <td>F</td>\n",
       "      <td>2008-01-31</td>\n",
       "      <td>1</td>\n",
       "      <td>20</td>\n",
       "      <td>63.4615</td>\n",
       "      <td>Engineering</td>\n",
       "    </tr>\n",
       "    <tr>\n",
       "      <th>2</th>\n",
       "      <td>3</td>\n",
       "      <td>Engineering Manager</td>\n",
       "      <td>1974-11-12</td>\n",
       "      <td>M</td>\n",
       "      <td>M</td>\n",
       "      <td>2007-11-11</td>\n",
       "      <td>2</td>\n",
       "      <td>21</td>\n",
       "      <td>43.2692</td>\n",
       "      <td>Engineering</td>\n",
       "    </tr>\n",
       "    <tr>\n",
       "      <th>3</th>\n",
       "      <td>4</td>\n",
       "      <td>Senior Tool Designer</td>\n",
       "      <td>1974-12-23</td>\n",
       "      <td>S</td>\n",
       "      <td>M</td>\n",
       "      <td>2007-12-05</td>\n",
       "      <td>48</td>\n",
       "      <td>80</td>\n",
       "      <td>8.6200</td>\n",
       "      <td>Engineering</td>\n",
       "    </tr>\n",
       "    <tr>\n",
       "      <th>4</th>\n",
       "      <td>4</td>\n",
       "      <td>Senior Tool Designer</td>\n",
       "      <td>1974-12-23</td>\n",
       "      <td>S</td>\n",
       "      <td>M</td>\n",
       "      <td>2007-12-05</td>\n",
       "      <td>48</td>\n",
       "      <td>80</td>\n",
       "      <td>8.6200</td>\n",
       "      <td>ToolDesign</td>\n",
       "    </tr>\n",
       "  </tbody>\n",
       "</table>\n",
       "</div>"
      ],
      "text/plain": [
       "  BusinessEntityID                       JobTitle   BirthDate MaritalStatus  \\\n",
       "0                1        Chief Executive Officer  1969-01-29             S   \n",
       "1                2  Vice President of Engineering  1971-08-01             S   \n",
       "2                3            Engineering Manager  1974-11-12             M   \n",
       "3                4           Senior Tool Designer  1974-12-23             S   \n",
       "4                4           Senior Tool Designer  1974-12-23             S   \n",
       "\n",
       "  Gender    HireDate  VacationHours  SickLeaveHours      Rate DepartmentID  \n",
       "0      M  2009-01-14             99              69  125.5000    Executive  \n",
       "1      F  2008-01-31              1              20   63.4615  Engineering  \n",
       "2      M  2007-11-11              2              21   43.2692  Engineering  \n",
       "3      M  2007-12-05             48              80    8.6200  Engineering  \n",
       "4      M  2007-12-05             48              80    8.6200   ToolDesign  "
      ]
     },
     "execution_count": 20,
     "metadata": {},
     "output_type": "execute_result"
    }
   ],
   "source": [
    "#inspecting the dataframe\n",
    "df_HR.head()"
   ]
  },
  {
   "cell_type": "markdown",
   "id": "df2524fb",
   "metadata": {},
   "source": [
    "### Creating a SQL database from python"
   ]
  },
  {
   "cell_type": "code",
   "execution_count": 21,
   "id": "dc5d9eb6",
   "metadata": {},
   "outputs": [
    {
     "data": {
      "text/plain": [
       "<pyodbc.Cursor at 0x1b2cced9330>"
      ]
     },
     "execution_count": 21,
     "metadata": {},
     "output_type": "execute_result"
    }
   ],
   "source": [
    "#creating database from pandas dataframe\n",
    "cursor.execute(f\"CREATE DATABASE {'AdventurePython'}\")"
   ]
  },
  {
   "cell_type": "markdown",
   "id": "c77e7a38",
   "metadata": {},
   "source": [
    "### Univariate exploration"
   ]
  },
  {
   "cell_type": "code",
   "execution_count": 21,
   "id": "feac2847",
   "metadata": {},
   "outputs": [
    {
     "data": {
      "text/plain": [
       "M    237\n",
       "F     97\n",
       "Name: Gender, dtype: int64"
      ]
     },
     "execution_count": 21,
     "metadata": {},
     "output_type": "execute_result"
    }
   ],
   "source": [
    "#Inspecting values for each gender\n",
    "df_HR.Gender.value_counts()"
   ]
  },
  {
   "cell_type": "code",
   "execution_count": 22,
   "id": "3df1b678",
   "metadata": {},
   "outputs": [
    {
     "data": {
      "image/png": "[encoded data removed]",
      "text/plain": [
       "<Figure size 432x288 with 1 Axes>"
      ]
     },
     "metadata": {
      "needs_background": "light"
     },
     "output_type": "display_data"
    }
   ],
   "source": [
    "fig = plt.figure()\n",
    "ax = fig.add_axes([.125, .125, .775, .755])\n",
    "sb.countplot(data = df_HR, x = 'Gender', ax = ax, palette = 'Greens' )\n",
    "plt.title('Count of Men and Women working for Adventure Works')\n",
    "plt.xticks(rotation=5);"
   ]
  },
  {
   "cell_type": "markdown",
   "id": "a858efbe",
   "metadata": {},
   "source": [
    "From the graph above I have noted that there are more men working at Adventure works than women, 237 men work at Adventure works while 97 women work at Adventure works."
   ]
  },
  {
   "cell_type": "markdown",
   "id": "d2774945",
   "metadata": {},
   "source": [
    "**Question: Which departments are paid the highest?**"
   ]
  },
  {
   "cell_type": "code",
   "execution_count": 23,
   "id": "14ec9e41",
   "metadata": {},
   "outputs": [],
   "source": [
    "departments = df_HR.groupby('DepartmentID').mean().sort_values(\n",
    "    by = 'Rate', ascending=False)\n",
    "departments = departments.filter(['DepartmentID','Rate'])"
   ]
  },
  {
   "cell_type": "code",
   "execution_count": 24,
   "id": "19ed144a",
   "metadata": {},
   "outputs": [
    {
     "data": {
      "image/png": "[encoded data removed]",
      "text/plain": [
       "<Figure size 1440x360 with 1 Axes>"
      ]
     },
     "metadata": {
      "needs_background": "light"
     },
     "output_type": "display_data"
    }
   ],
   "source": [
    "departments.plot(kind='bar', figsize=(20,5), color = 'green', alpha=.5)\n",
    "plt.xticks(rotation=85,fontsize=12)\n",
    "plt.xlabel('Department')\n",
    "plt.ylabel('Rate per Hour')\n",
    "plt.title('Plot of Average Rate per hour per department', fontdict={'fontsize':15});"
   ]
  },
  {
   "cell_type": "markdown",
   "id": "79539c57",
   "metadata": {},
   "source": [
    "From the graph above I noted that the departments with the highest rate per hour are Executives and Research and Development, while the 2 departments with the lowest rate per hour Facilities and Maintenance and Shipping and Recievinng  "
   ]
  },
  {
   "cell_type": "markdown",
   "id": "105e6c50",
   "metadata": {},
   "source": [
    "**Question: What is the average pay per gender?**"
   ]
  },
  {
   "cell_type": "code",
   "execution_count": 25,
   "id": "cd44c5d2",
   "metadata": {},
   "outputs": [],
   "source": [
    "genders = df_HR.groupby('Gender').mean()\n",
    "genders = genders.filter(['Gender','Rate'])"
   ]
  },
  {
   "cell_type": "code",
   "execution_count": 26,
   "id": "626ab92d",
   "metadata": {},
   "outputs": [
    {
     "data": {
      "text/html": [
       "<div>\n",
       "<style scoped>\n",
       "    .dataframe tbody tr th:only-of-type {\n",
       "        vertical-align: middle;\n",
       "    }\n",
       "\n",
       "    .dataframe tbody tr th {\n",
       "        vertical-align: top;\n",
       "    }\n",
       "\n",
       "    .dataframe thead th {\n",
       "        text-align: right;\n",
       "    }\n",
       "</style>\n",
       "<table border=\"1\" class=\"dataframe\">\n",
       "  <thead>\n",
       "    <tr style=\"text-align: right;\">\n",
       "      <th></th>\n",
       "      <th>Rate</th>\n",
       "    </tr>\n",
       "    <tr>\n",
       "      <th>Gender</th>\n",
       "      <th></th>\n",
       "    </tr>\n",
       "  </thead>\n",
       "  <tbody>\n",
       "    <tr>\n",
       "      <th>F</th>\n",
       "      <td>20.697361</td>\n",
       "    </tr>\n",
       "    <tr>\n",
       "      <th>M</th>\n",
       "      <td>17.160878</td>\n",
       "    </tr>\n",
       "  </tbody>\n",
       "</table>\n",
       "</div>"
      ],
      "text/plain": [
       "             Rate\n",
       "Gender           \n",
       "F       20.697361\n",
       "M       17.160878"
      ]
     },
     "execution_count": 26,
     "metadata": {},
     "output_type": "execute_result"
    }
   ],
   "source": [
    "genders.head()"
   ]
  },
  {
   "cell_type": "code",
   "execution_count": 27,
   "id": "1d6cdd50",
   "metadata": {
    "scrolled": true
   },
   "outputs": [
    {
     "data": {
      "image/png": "[encoded data removed]",
      "text/plain": [
       "<Figure size 1440x360 with 1 Axes>"
      ]
     },
     "metadata": {
      "needs_background": "light"
     },
     "output_type": "display_data"
    }
   ],
   "source": [
    "genders.plot(kind='bar', figsize=(20,5), color = 'green', alpha=.5)\n",
    "plt.xticks(rotation=360)\n",
    "plt.xlabel('Gender')\n",
    "plt.ylabel('Rate per Hour')\n",
    "plt.title('Plot of Average Rate per hour per Gender');"
   ]
  },
  {
   "cell_type": "markdown",
   "id": "c42b306f",
   "metadata": {},
   "source": [
    "**The average rate per hour:** \n",
    "- for women is about \\$20 per\n",
    "- for men is about \\$17.5 per hour."
   ]
  },
  {
   "cell_type": "markdown",
   "id": "9ea44810",
   "metadata": {},
   "source": [
    "**Question: Is there descrapency with regards to vacation hours given to each gender?**`"
   ]
  },
  {
   "cell_type": "code",
   "execution_count": 29,
   "id": "fc5d53ca",
   "metadata": {},
   "outputs": [],
   "source": [
    "vac = df_HR.groupby('Gender').mean()\n",
    "vac = vac.filter(['VacationHours'])"
   ]
  },
  {
   "cell_type": "code",
   "execution_count": 30,
   "id": "aea303bc",
   "metadata": {},
   "outputs": [
    {
     "data": {
      "text/html": [
       "<div>\n",
       "<style scoped>\n",
       "    .dataframe tbody tr th:only-of-type {\n",
       "        vertical-align: middle;\n",
       "    }\n",
       "\n",
       "    .dataframe tbody tr th {\n",
       "        vertical-align: top;\n",
       "    }\n",
       "\n",
       "    .dataframe thead th {\n",
       "        text-align: right;\n",
       "    }\n",
       "</style>\n",
       "<table border=\"1\" class=\"dataframe\">\n",
       "  <thead>\n",
       "    <tr style=\"text-align: right;\">\n",
       "      <th></th>\n",
       "      <th>VacationHours</th>\n",
       "    </tr>\n",
       "    <tr>\n",
       "      <th>Gender</th>\n",
       "      <th></th>\n",
       "    </tr>\n",
       "  </thead>\n",
       "  <tbody>\n",
       "    <tr>\n",
       "      <th>F</th>\n",
       "      <td>49.14433</td>\n",
       "    </tr>\n",
       "    <tr>\n",
       "      <th>M</th>\n",
       "      <td>48.00000</td>\n",
       "    </tr>\n",
       "  </tbody>\n",
       "</table>\n",
       "</div>"
      ],
      "text/plain": [
       "        VacationHours\n",
       "Gender               \n",
       "F            49.14433\n",
       "M            48.00000"
      ]
     },
     "execution_count": 30,
     "metadata": {},
     "output_type": "execute_result"
    }
   ],
   "source": [
    "vac.head(2)"
   ]
  },
  {
   "cell_type": "code",
   "execution_count": 31,
   "id": "64cd43fe",
   "metadata": {},
   "outputs": [
    {
     "data": {
      "image/png": "[encoded data removed]",
      "text/plain": [
       "<Figure size 1440x360 with 1 Axes>"
      ]
     },
     "metadata": {
      "needs_background": "light"
     },
     "output_type": "display_data"
    }
   ],
   "source": [
    "vac.plot(kind='bar', figsize=(20,5), color = 'green', alpha=.5)\n",
    "plt.xticks(rotation=360)\n",
    "plt.xlabel('Gender')\n",
    "plt.ylabel('Vacation hours')\n",
    "plt.title('Plot of average vacation hours per Gender');"
   ]
  },
  {
   "cell_type": "markdown",
   "id": "bd05f96b",
   "metadata": {},
   "source": [
    "* Vacation hours dont differ between male and female employees."
   ]
  },
  {
   "cell_type": "markdown",
   "id": "10262bad",
   "metadata": {},
   "source": [
    "### Bivariate exploration"
   ]
  },
  {
   "cell_type": "code",
   "execution_count": 32,
   "id": "000a8e5c",
   "metadata": {},
   "outputs": [
    {
     "data": {
      "image/png": "[encoded data removed]",
      "text/plain": [
       "<Figure size 720x576 with 2 Axes>"
      ]
     },
     "metadata": {
      "needs_background": "light"
     },
     "output_type": "display_data"
    }
   ],
   "source": [
    "plt.figure(figsize=(10,8))\n",
    "plt.hist2d(data = df_HR, x = 'VacationHours', y = 'Rate', cmin=0.5, cmap='ocean')\n",
    "plt.colorbar()\n",
    "plt.xlabel('Vacation Hours')\n",
    "plt.ylabel('Rate');\n",
    "plt.title('Heat map of Rate and Vacation Hours');"
   ]
  },
  {
   "cell_type": "markdown",
   "id": "7c1ba8f4",
   "metadata": {},
   "source": [
    "From the heatmap above there is no clear relationship between the vacation hours and hourly rate. Vacation hours differ from in different rate per hour ranges."
   ]
  },
  {
   "cell_type": "markdown",
   "id": "688ccc8e",
   "metadata": {},
   "source": [
    "### Multivariate exploration"
   ]
  },
  {
   "cell_type": "markdown",
   "id": "a17f59e1",
   "metadata": {},
   "source": [
    "**What is the relationship between rate per hour and number of available Vacation Hours for men and women?**"
   ]
  },
  {
   "cell_type": "code",
   "execution_count": 33,
   "id": "9332ec6f",
   "metadata": {},
   "outputs": [
    {
     "data": {
      "image/png": "[encoded data removed]",
      "text/plain": [
       "<Figure size 1080x576 with 1 Axes>"
      ]
     },
     "metadata": {
      "needs_background": "light"
     },
     "output_type": "display_data"
    }
   ],
   "source": [
    "plt.figure(figsize=(15,8))\n",
    "sb.scatterplot(x = \"VacationHours\", y = \"Rate\", data = df_HR, hue='Gender', palette='Greens')\n",
    "plt.xlabel('Vacation Hours')\n",
    "plt.ylabel('Rate per Hour ($)')\n",
    "plt.title('Scatter Plot of Rate Per Hour and Vacation Hours');"
   ]
  },
  {
   "cell_type": "markdown",
   "id": "ea3c9290",
   "metadata": {},
   "source": [
    "From the scatter plot above there is no clear relationship between the vacation hours and hourly rate for men and women. Vacation hours differ from in different rate per hour ranges."
   ]
  },
  {
   "cell_type": "markdown",
   "id": "6fd4cbd1",
   "metadata": {},
   "source": [
    "<a id='conclusions'></a>\n",
    "## Conclusions"
   ]
  },
  {
   "cell_type": "markdown",
   "id": "fe79b90f",
   "metadata": {},
   "source": [
    "* There are more men working for Adventure works than woman.\n",
    "* The production department is the department with the most employees with 180 employees.\n",
    "* The highest paying departments are Executives, Research and Development and Information systems\n",
    "* The lowest paying departments are Shippping and recieving, Facilities and Engineering and Production\n",
    "* The avearage rate per hour for woemen is \\\\$20 and the average rate per hour for men is \\\\$17.5\n",
    "* Vacation hours differ in different income ranges, with some employees in a certain range having considerably more vacation hours than other employees"
   ]
  },
  {
   "cell_type": "code",
   "execution_count": 34,
   "id": "edf3afb1",
   "metadata": {},
   "outputs": [],
   "source": [
    "#saving dataframe to csv in order to build streamlit dashboard.\n",
    "df_HR.to_csv('main.csv')"
   ]
  },
  {
   "cell_type": "markdown",
   "id": "4615f618",
   "metadata": {},
   "source": [
    "**References**\n",
    "\n",
    "_Connecting to SQL Database:_\n",
    "\n",
    "https://alto-palo.com/blogs/how-to-connect-python-to-sql-server-using-pyodbc/#:~:text=Steps%20to%20Connect%20Python%20to%20SQL%20Server%20with,Step%205%3A%20Connect%20Python%20to%20SQL%20Server%20"
   ]
  },
  {
   "cell_type": "code",
   "execution_count": null,
   "id": "fd374e6f",
   "metadata": {},
   "outputs": [],
   "source": []
  }
 ],
 "metadata": {
  "kernelspec": {
   "display_name": "Python 3 (ipykernel)",
   "language": "python",
   "name": "python3"
  },
  "language_info": {
   "codemirror_mode": {
    "name": "ipython",
    "version": 3
   },
   "file_extension": ".py",
   "mimetype": "text/x-python",
   "name": "python",
   "nbconvert_exporter": "python",
   "pygments_lexer": "ipython3",
   "version": "3.7.13"
  }
 },
 "nbformat": 4,
 "nbformat_minor": 5
}
